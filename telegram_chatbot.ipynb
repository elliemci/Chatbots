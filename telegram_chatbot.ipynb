{
  "nbformat": 4,
  "nbformat_minor": 0,
  "metadata": {
    "colab": {
      "provenance": [],
      "authorship_tag": "ABX9TyMONCtk9iC3UOsqtMBBh/So",
      "include_colab_link": true
    },
    "kernelspec": {
      "name": "python3",
      "display_name": "Python 3"
    },
    "language_info": {
      "name": "python"
    }
  },
  "cells": [
    {
      "cell_type": "markdown",
      "metadata": {
        "id": "view-in-github",
        "colab_type": "text"
      },
      "source": [
        "<a href=\"https://colab.research.google.com/github/elliemci/chatbots/blob/main/telegram_chatbot.ipynb\" target=\"_parent\"><img src=\"https://colab.research.google.com/assets/colab-badge.svg\" alt=\"Open In Colab\"/></a>"
      ]
    },
    {
      "cell_type": "markdown",
      "source": [
        "# Telegram Chatbot\n",
        "\n",
        "Telegram chatbot which responds \"hi\" to any message"
      ],
      "metadata": {
        "id": "W3LzfTxBNUkj"
      }
    },
    {
      "cell_type": "code",
      "execution_count": 9,
      "metadata": {
        "colab": {
          "base_uri": "https://localhost:8080/"
        },
        "id": "svzkT9f-NHSl",
        "outputId": "ee18ce97-4f65-4b61-aaad-13f5c578f692"
      },
      "outputs": [
        {
          "output_type": "stream",
          "name": "stdout",
          "text": [
            "Collecting pyTelegramBotAPI\n",
            "  Downloading pyTelegramBotAPI-4.14.0.tar.gz (243 kB)\n",
            "\u001b[2K     \u001b[90m━━━━━━━━━━━━━━━━━━━━━━━━━━━━━━━━━━━━━━━━\u001b[0m \u001b[32m243.1/243.1 kB\u001b[0m \u001b[31m3.6 MB/s\u001b[0m eta \u001b[36m0:00:00\u001b[0m\n",
            "\u001b[?25h  Preparing metadata (setup.py) ... \u001b[?25l\u001b[?25hdone\n",
            "Requirement already satisfied: requests in /usr/local/lib/python3.10/dist-packages (from pyTelegramBotAPI) (2.31.0)\n",
            "Requirement already satisfied: charset-normalizer<4,>=2 in /usr/local/lib/python3.10/dist-packages (from requests->pyTelegramBotAPI) (3.3.2)\n",
            "Requirement already satisfied: idna<4,>=2.5 in /usr/local/lib/python3.10/dist-packages (from requests->pyTelegramBotAPI) (3.4)\n",
            "Requirement already satisfied: urllib3<3,>=1.21.1 in /usr/local/lib/python3.10/dist-packages (from requests->pyTelegramBotAPI) (2.0.7)\n",
            "Requirement already satisfied: certifi>=2017.4.17 in /usr/local/lib/python3.10/dist-packages (from requests->pyTelegramBotAPI) (2023.7.22)\n",
            "Building wheels for collected packages: pyTelegramBotAPI\n",
            "  Building wheel for pyTelegramBotAPI (setup.py) ... \u001b[?25l\u001b[?25hdone\n",
            "  Created wheel for pyTelegramBotAPI: filename=pyTelegramBotAPI-4.14.0-py3-none-any.whl size=215250 sha256=dd4515d1e6d23f850db3d3a827b5a4d74661af389237d894f381ed309ac2f40d\n",
            "  Stored in directory: /root/.cache/pip/wheels/25/51/2d/24b40a366c85c37928d5aa36ddf257e5a79fad25e1ecd11b2c\n",
            "Successfully built pyTelegramBotAPI\n",
            "Installing collected packages: pyTelegramBotAPI\n",
            "Successfully installed pyTelegramBotAPI-4.14.0\n"
          ]
        }
      ],
      "source": [
        "!pip install pyTelegramBotAPI"
      ]
    },
    {
      "cell_type": "code",
      "source": [
        "import telebot"
      ],
      "metadata": {
        "id": "vNcaF2-7OoRR"
      },
      "execution_count": 10,
      "outputs": []
    },
    {
      "cell_type": "code",
      "source": [
        "import os\n",
        "from getpass import getpass\n",
        "\n",
        "# To conceal the API token given by the BotFather, create an environment variable\n",
        "# in Google Colab without revealing the actual value in the notbook\n",
        "\n",
        "os.environ['TELEGRAM_BOT_TOKEN'] = getpass('Enter your bot token: ')\n",
        "TOKEN = os.getenv(\"TELEGRAM_BOT_TOKEN\")"
      ],
      "metadata": {
        "id": "Qzjvuun3PW_H",
        "colab": {
          "base_uri": "https://localhost:8080/"
        },
        "outputId": "97ef27f3-b31a-4c53-f587-f3174627462a"
      },
      "execution_count": 11,
      "outputs": [
        {
          "name": "stdout",
          "output_type": "stream",
          "text": [
            "Enter your bot token: ··········\n"
          ]
        }
      ]
    },
    {
      "cell_type": "code",
      "source": [
        "import requests\n",
        "\n",
        "# on the Telegram App create a new bot - greeting-telegram-bot and get a token from the BotFather\n",
        "# use /start or /help to display comands that BotFather can execute including /newbot and /mybot\n",
        "# the BotFater send a link t.me/elliemci_bot which can be open by others and an API token which\n",
        "# is needed by the code to connect to the service\n",
        "\n",
        "response = requests.get(f\"https://api.telegram.org/bot{TOKEN}/getMe\")\n",
        "\n",
        "if response.status_code == 200:\n",
        "    print(\"The token is valid.\")\n",
        "else:\n",
        "    print(\"The token is not valid.\")"
      ],
      "metadata": {
        "colab": {
          "base_uri": "https://localhost:8080/"
        },
        "id": "-sxq5NAsRgeO",
        "outputId": "6eea916f-3af2-4f30-a73a-4ca1128f9a1f"
      },
      "execution_count": 12,
      "outputs": [
        {
          "output_type": "stream",
          "name": "stdout",
          "text": [
            "The token is valid.\n"
          ]
        }
      ]
    },
    {
      "cell_type": "code",
      "source": [
        "# set the bot token\n",
        "bot = telebot.TeleBot(TOKEN)\n",
        "\n",
        "# backhand function that receives a message and returns \"hi\" as a reply\n",
        "@bot.message_handler(func=lambda m: True)\n",
        "def reply_to_message(message):\n",
        "    bot.reply_to(message, \"hi\")"
      ],
      "metadata": {
        "id": "lp4WcBBhBr_P"
      },
      "execution_count": 13,
      "outputs": []
    },
    {
      "cell_type": "code",
      "source": [
        "# execute the greeting-telegram-bot at t.me/elliemci_bot\n",
        "# bot.polling() function call is part of the python-telegram-bot library\n",
        "# It starts a long polling loop that continuously checks for new updates\n",
        "# from the Telegram server, it doesn't return until the execution of the\n",
        "# script is stopped or an unhandled exception is raised.\n",
        "# NB: The last line of the code\n",
        "bot.polling()"
      ],
      "metadata": {
        "id": "dgRzhLSkB0kL"
      },
      "execution_count": 14,
      "outputs": []
    }
  ]
}
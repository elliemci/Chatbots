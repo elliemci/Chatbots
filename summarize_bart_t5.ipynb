{
  "nbformat": 4,
  "nbformat_minor": 0,
  "metadata": {
    "colab": {
      "provenance": [],
      "authorship_tag": "ABX9TyMUKzme90VkGwCahF+dsHg/",
      "include_colab_link": true
    },
    "kernelspec": {
      "name": "python3",
      "display_name": "Python 3"
    },
    "language_info": {
      "name": "python"
    }
  },
  "cells": [
    {
      "cell_type": "markdown",
      "metadata": {
        "id": "view-in-github",
        "colab_type": "text"
      },
      "source": [
        "<a href=\"https://colab.research.google.com/github/elliemci/chatbots/blob/main/summarize_bart_t5.ipynb\" target=\"_parent\"><img src=\"https://colab.research.google.com/assets/colab-badge.svg\" alt=\"Open In Colab\"/></a>"
      ]
    },
    {
      "cell_type": "markdown",
      "source": [
        "# Summarize Text with BART and T5 transformers"
      ],
      "metadata": {
        "id": "JJIt80E7MJq3"
      }
    },
    {
      "cell_type": "code",
      "execution_count": 4,
      "metadata": {
        "colab": {
          "base_uri": "https://localhost:8080/"
        },
        "id": "PU9hBeRgL1E8",
        "outputId": "6d6dd7b9-710e-4cf0-9ae1-ce24749cfa5a"
      },
      "outputs": [
        {
          "output_type": "stream",
          "name": "stdout",
          "text": [
            "Requirement already satisfied: transformers in /usr/local/lib/python3.10/dist-packages (4.35.2)\n",
            "Requirement already satisfied: filelock in /usr/local/lib/python3.10/dist-packages (from transformers) (3.13.1)\n",
            "Requirement already satisfied: huggingface-hub<1.0,>=0.16.4 in /usr/local/lib/python3.10/dist-packages (from transformers) (0.19.4)\n",
            "Requirement already satisfied: numpy>=1.17 in /usr/local/lib/python3.10/dist-packages (from transformers) (1.23.5)\n",
            "Requirement already satisfied: packaging>=20.0 in /usr/local/lib/python3.10/dist-packages (from transformers) (23.2)\n",
            "Requirement already satisfied: pyyaml>=5.1 in /usr/local/lib/python3.10/dist-packages (from transformers) (6.0.1)\n",
            "Requirement already satisfied: regex!=2019.12.17 in /usr/local/lib/python3.10/dist-packages (from transformers) (2023.6.3)\n",
            "Requirement already satisfied: requests in /usr/local/lib/python3.10/dist-packages (from transformers) (2.31.0)\n",
            "Requirement already satisfied: tokenizers<0.19,>=0.14 in /usr/local/lib/python3.10/dist-packages (from transformers) (0.15.0)\n",
            "Requirement already satisfied: safetensors>=0.3.1 in /usr/local/lib/python3.10/dist-packages (from transformers) (0.4.0)\n",
            "Requirement already satisfied: tqdm>=4.27 in /usr/local/lib/python3.10/dist-packages (from transformers) (4.66.1)\n",
            "Requirement already satisfied: fsspec>=2023.5.0 in /usr/local/lib/python3.10/dist-packages (from huggingface-hub<1.0,>=0.16.4->transformers) (2023.6.0)\n",
            "Requirement already satisfied: typing-extensions>=3.7.4.3 in /usr/local/lib/python3.10/dist-packages (from huggingface-hub<1.0,>=0.16.4->transformers) (4.5.0)\n",
            "Requirement already satisfied: charset-normalizer<4,>=2 in /usr/local/lib/python3.10/dist-packages (from requests->transformers) (3.3.2)\n",
            "Requirement already satisfied: idna<4,>=2.5 in /usr/local/lib/python3.10/dist-packages (from requests->transformers) (3.4)\n",
            "Requirement already satisfied: urllib3<3,>=1.21.1 in /usr/local/lib/python3.10/dist-packages (from requests->transformers) (2.0.7)\n",
            "Requirement already satisfied: certifi>=2017.4.17 in /usr/local/lib/python3.10/dist-packages (from requests->transformers) (2023.7.22)\n"
          ]
        }
      ],
      "source": [
        "!pip install transformers"
      ]
    },
    {
      "cell_type": "code",
      "source": [
        "from transformers import pipeline"
      ],
      "metadata": {
        "id": "zeOGv21TN-kA"
      },
      "execution_count": 2,
      "outputs": []
    },
    {
      "cell_type": "code",
      "source": [
        "# test to summarize\n",
        "text = 'Tumor cells often travel along nerve cells to other parts of the body, using them almost like highways to reach distant places, she said. But tumors also build those highways themselves, releasing chemicals that stimulate the growth of nerves. For some brain cancer patients whose tumors sit in the part of the brain responsible for language, simply talking can spur the cancer to grow. And she is shown that in extremely lethal brain tumors called glioblastomas and DIPG, the cancer cells form electrical connections with brain cells. The tumor is affecting the brain and the brain is affecting the tumor, Monje said of all these examples. Nerves are also an integral part of most cancers early development and progression, said Dr. Timothy Wang, a gastroenterologist and cancer specialist at the Herbert Irving Comprehensive Cancer Center at Columbia University. For cancers to grow, they need signals from nerves, he said. We do noy know about what the tumor is saying to the nerves and where that message goes,\" Wang said. But \"nervous (system) signals are a two-way street. In addition to receiving signals from nerves, cancer cells are sending signals and that also plays a role in its overall strategy towards growth.'"
      ],
      "metadata": {
        "id": "6MNebfVLl6W9"
      },
      "execution_count": 6,
      "outputs": []
    },
    {
      "cell_type": "code",
      "source": [
        "# instantiate the pipline class with NLP summarization task with the default model BART\n",
        "summary = pipeline(\"summarization\")\n",
        "\n",
        "print(f\"Text:\\n{text}\")\n",
        "print()\n",
        "print(f\"summary:\\n{summary(text, min_length=10, max_length=50)[0]['summary_text']}\")\n"
      ],
      "metadata": {
        "colab": {
          "base_uri": "https://localhost:8080/"
        },
        "id": "8Gjc4iBTONc4",
        "outputId": "cc482cc2-c9f9-4f7b-b2c6-05fdca6bf16f"
      },
      "execution_count": 9,
      "outputs": [
        {
          "output_type": "stream",
          "name": "stderr",
          "text": [
            "No model was supplied, defaulted to sshleifer/distilbart-cnn-12-6 and revision a4f8f3e (https://huggingface.co/sshleifer/distilbart-cnn-12-6).\n",
            "Using a pipeline without specifying a model name and revision in production is not recommended.\n"
          ]
        },
        {
          "output_type": "stream",
          "name": "stdout",
          "text": [
            "Text:\n",
            "Tumor cells often travel along nerve cells to other parts of the body, using them almost like highways to reach distant places, she said. But tumors also build those highways themselves, releasing chemicals that stimulate the growth of nerves. For some brain cancer patients whose tumors sit in the part of the brain responsible for language, simply talking can spur the cancer to grow. And she is shown that in extremely lethal brain tumors called glioblastomas and DIPG, the cancer cells form electrical connections with brain cells. The tumor is affecting the brain and the brain is affecting the tumor, Monje said of all these examples. Nerves are also an integral part of most cancers early development and progression, said Dr. Timothy Wang, a gastroenterologist and cancer specialist at the Herbert Irving Comprehensive Cancer Center at Columbia University. For cancers to grow, they need signals from nerves, he said. We do noy know about what the tumor is saying to the nerves and where that message goes,\" Wang said. But \"nervous (system) signals are a two-way street. In addition to receiving signals from nerves, cancer cells are sending signals and that also plays a role in its overall strategy towards growth.\n",
            "\n",
            "summary:\n",
            " Tumor cells often travel along nerve cells to other parts of the body . But tumors also build those highways themselves, releasing chemicals that stimulate the growth of nerves . Nerves are also an integral part of most cancers early development and progression\n"
          ]
        }
      ]
    },
    {
      "cell_type": "code",
      "source": [
        "# instantiate the pipline class with NLP summarization task with the T5-base model and T5-tokenizer\n",
        "summary_t5 = pipeline(\"summarization\", model=\"t5-base\", tokenizer=\"t5-base\")\n",
        "\n",
        "print(f\"summary:\\n{summary_t5(text, min_length=10, max_length=50)[0]['summary_text']}\")"
      ],
      "metadata": {
        "colab": {
          "base_uri": "https://localhost:8080/"
        },
        "id": "dMhXKpP8lbW2",
        "outputId": "465bf3b8-3a28-4ecf-c1b2-d935d781b063"
      },
      "execution_count": 10,
      "outputs": [
        {
          "output_type": "stream",
          "name": "stdout",
          "text": [
            "summary:\n",
            "tumors release chemicals that stimulate the growth of nerves . nerves are an integral part of most cancers early development and progression . for cancers to grow, they need signals from nerves, a doctor says .\n"
          ]
        }
      ]
    }
  ]
}
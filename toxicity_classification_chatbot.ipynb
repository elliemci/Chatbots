{
  "nbformat": 4,
  "nbformat_minor": 0,
  "metadata": {
    "colab": {
      "provenance": [],
      "authorship_tag": "ABX9TyOOJx30ABqtBVmGT9yOSHrU",
      "include_colab_link": true
    },
    "kernelspec": {
      "name": "python3",
      "display_name": "Python 3"
    },
    "language_info": {
      "name": "python"
    }
  },
  "cells": [
    {
      "cell_type": "markdown",
      "metadata": {
        "id": "view-in-github",
        "colab_type": "text"
      },
      "source": [
        "<a href=\"https://colab.research.google.com/github/elliemci/chatbots/blob/main/toxicity_classification_chatbot.ipynb\" target=\"_parent\"><img src=\"https://colab.research.google.com/assets/colab-badge.svg\" alt=\"Open In Colab\"/></a>"
      ]
    },
    {
      "cell_type": "markdown",
      "source": [
        "NLP toxicity classification integrated into a telegram chatbot that classifyes any user message as toxic or not."
      ],
      "metadata": {
        "id": "DSY4geZsEXk9"
      }
    },
    {
      "cell_type": "code",
      "execution_count": null,
      "metadata": {
        "colab": {
          "base_uri": "https://localhost:8080/"
        },
        "id": "jfJHjoy6EHRY",
        "outputId": "0a9ccc2d-5c90-4f7d-8d0d-3c0d374dc4a5"
      },
      "outputs": [
        {
          "output_type": "stream",
          "name": "stdout",
          "text": [
            "Requirement already satisfied: transformers[sentencepiece] in /usr/local/lib/python3.10/dist-packages (4.35.2)\n",
            "Collecting pyTelegramBotAPI\n",
            "  Downloading pyTelegramBotAPI-4.14.0.tar.gz (243 kB)\n",
            "\u001b[2K     \u001b[90m━━━━━━━━━━━━━━━━━━━━━━━━━━━━━━━━━━━━━━━━\u001b[0m \u001b[32m243.1/243.1 kB\u001b[0m \u001b[31m5.1 MB/s\u001b[0m eta \u001b[36m0:00:00\u001b[0m\n",
            "\u001b[?25h  Preparing metadata (setup.py) ... \u001b[?25l\u001b[?25hdone\n",
            "Requirement already satisfied: filelock in /usr/local/lib/python3.10/dist-packages (from transformers[sentencepiece]) (3.13.1)\n",
            "Requirement already satisfied: huggingface-hub<1.0,>=0.16.4 in /usr/local/lib/python3.10/dist-packages (from transformers[sentencepiece]) (0.19.4)\n",
            "Requirement already satisfied: numpy>=1.17 in /usr/local/lib/python3.10/dist-packages (from transformers[sentencepiece]) (1.23.5)\n",
            "Requirement already satisfied: packaging>=20.0 in /usr/local/lib/python3.10/dist-packages (from transformers[sentencepiece]) (23.2)\n",
            "Requirement already satisfied: pyyaml>=5.1 in /usr/local/lib/python3.10/dist-packages (from transformers[sentencepiece]) (6.0.1)\n",
            "Requirement already satisfied: regex!=2019.12.17 in /usr/local/lib/python3.10/dist-packages (from transformers[sentencepiece]) (2023.6.3)\n",
            "Requirement already satisfied: requests in /usr/local/lib/python3.10/dist-packages (from transformers[sentencepiece]) (2.31.0)\n",
            "Requirement already satisfied: tokenizers<0.19,>=0.14 in /usr/local/lib/python3.10/dist-packages (from transformers[sentencepiece]) (0.15.0)\n",
            "Requirement already satisfied: safetensors>=0.3.1 in /usr/local/lib/python3.10/dist-packages (from transformers[sentencepiece]) (0.4.0)\n",
            "Requirement already satisfied: tqdm>=4.27 in /usr/local/lib/python3.10/dist-packages (from transformers[sentencepiece]) (4.66.1)\n",
            "Collecting sentencepiece!=0.1.92,>=0.1.91 (from transformers[sentencepiece])\n",
            "  Downloading sentencepiece-0.1.99-cp310-cp310-manylinux_2_17_x86_64.manylinux2014_x86_64.whl (1.3 MB)\n",
            "\u001b[2K     \u001b[90m━━━━━━━━━━━━━━━━━━━━━━━━━━━━━━━━━━━━━━━━\u001b[0m \u001b[32m1.3/1.3 MB\u001b[0m \u001b[31m13.4 MB/s\u001b[0m eta \u001b[36m0:00:00\u001b[0m\n",
            "\u001b[?25hRequirement already satisfied: protobuf in /usr/local/lib/python3.10/dist-packages (from transformers[sentencepiece]) (3.20.3)\n",
            "Requirement already satisfied: fsspec>=2023.5.0 in /usr/local/lib/python3.10/dist-packages (from huggingface-hub<1.0,>=0.16.4->transformers[sentencepiece]) (2023.6.0)\n",
            "Requirement already satisfied: typing-extensions>=3.7.4.3 in /usr/local/lib/python3.10/dist-packages (from huggingface-hub<1.0,>=0.16.4->transformers[sentencepiece]) (4.5.0)\n",
            "Requirement already satisfied: charset-normalizer<4,>=2 in /usr/local/lib/python3.10/dist-packages (from requests->transformers[sentencepiece]) (3.3.2)\n",
            "Requirement already satisfied: idna<4,>=2.5 in /usr/local/lib/python3.10/dist-packages (from requests->transformers[sentencepiece]) (3.4)\n",
            "Requirement already satisfied: urllib3<3,>=1.21.1 in /usr/local/lib/python3.10/dist-packages (from requests->transformers[sentencepiece]) (2.0.7)\n",
            "Requirement already satisfied: certifi>=2017.4.17 in /usr/local/lib/python3.10/dist-packages (from requests->transformers[sentencepiece]) (2023.7.22)\n",
            "Building wheels for collected packages: pyTelegramBotAPI\n",
            "  Building wheel for pyTelegramBotAPI (setup.py) ... \u001b[?25l\u001b[?25hdone\n",
            "  Created wheel for pyTelegramBotAPI: filename=pyTelegramBotAPI-4.14.0-py3-none-any.whl size=215250 sha256=3d4e78eda6fbb7789423bb1138a6c12151818ad32a887366e7f41ab04ae89a45\n",
            "  Stored in directory: /root/.cache/pip/wheels/25/51/2d/24b40a366c85c37928d5aa36ddf257e5a79fad25e1ecd11b2c\n",
            "Successfully built pyTelegramBotAPI\n",
            "Installing collected packages: sentencepiece, pyTelegramBotAPI\n",
            "Successfully installed pyTelegramBotAPI-4.14.0 sentencepiece-0.1.99\n"
          ]
        }
      ],
      "source": [
        "# install Python transformers development version\n",
        "!pip install transformers[sentencepiece] pyTelegramBotAPI"
      ]
    },
    {
      "cell_type": "code",
      "source": [
        "import telebot\n",
        "\n",
        "from transformers import TextClassificationPipeline, AutoTokenizer, AutoModelForSequenceClassification"
      ],
      "metadata": {
        "id": "m5adV68CFAhK"
      },
      "execution_count": 6,
      "outputs": []
    },
    {
      "cell_type": "code",
      "source": [
        "import os\n",
        "from getpass import getpass\n",
        "\n",
        "# text /newbot to the BotFather in the Telegram Chat choose a bot's name and username\n",
        "os.environ['TELEGRAM_BOT_TOKEN'] = getpass('Enter your bot token: ')\n",
        "TOKEN = os.getenv('TELEGRAM_BOT_TOKEN')\n",
        "\n",
        "# create the bot an instance of TeleBot when set the token\n",
        "bot = telebot.TeleBot(TOKEN)"
      ],
      "metadata": {
        "colab": {
          "base_uri": "https://localhost:8080/"
        },
        "id": "zODNVQEIFa9k",
        "outputId": "ef0ced59-1678-4abf-e592-aad72cac1846"
      },
      "execution_count": 7,
      "outputs": [
        {
          "name": "stdout",
          "output_type": "stream",
          "text": [
            "Enter your bot token: ··········\n"
          ]
        }
      ]
    },
    {
      "cell_type": "code",
      "source": [
        "# Use toxic-bert model from Hugging Face library for toxic comments classification\n",
        "classifier = TextClassificationPipeline(model = AutoModelForSequenceClassification.from_pretrained(\"unitary/toxic-bert\"),\n",
        "                                        tokenizer = AutoTokenizer.from_pretrained(\"unitary/toxic-bert\"))\n",
        "\n",
        "# define a dictionary to store the state of the conversation\n",
        "conversation_state = {}\n",
        "\n",
        "# function that handles all incoming messages, filter always returns True\n",
        "@bot.message_handler(func=lambda message: True)\n",
        "def handle_message(message):\n",
        "    global conversation_state\n",
        "    # get the chat id\n",
        "    chat_id = message.chat.id\n",
        "    # check if the chat id is in the conversation state dictionary\n",
        "    if chat_id not in conversation_state:\n",
        "      conversation_state[chat_id] = \"start\"\n",
        "      print(f\"conversation state {conversation_state}\")\n",
        "    # get the current state of the conversation\n",
        "    state = conversation_state[chat_id]\n",
        "\n",
        "    # check the content of the message and classify it as toxic or non-toxic\n",
        "    if state == \"start\":\n",
        "      bot.send_message(chat_id, \"Hi, how can I help you?\")\n",
        "      conversation_state[chat_id] = \"waiting_for_input\"\n",
        "    elif state == \"waiting_for_input\":\n",
        "      # get user's message intent\n",
        "      classification = classifier(message.text)[0]\n",
        "      print(f\"classified as {classification['label']} with score {classification['score']}\")\n",
        "      # get the label of the intent\n",
        "      label = classification[\"label\"]\n",
        "      # get the score of the intent\n",
        "      score = classification[\"score\"]\n",
        "      # reply with \"toxic\" if score is higher than 0.5, \"non-toxic\" if score < 0.1,\n",
        "      # otherwise reply with default message\n",
        "      if score > 0.5:\n",
        "        bot.send_message(chat_id, f\"I consider this a toxic message\")\n",
        "      elif score < 0.15:\n",
        "        bot.send_message(chat_id, f\"Message doesn't look toxic\")\n",
        "      else:\n",
        "        bot.send_message(chat_id, \"I'm sorry, I am not sure of the message toxicity content.\")\n",
        "        conversation_state[chat_id] = \"waiting_for_input\"\n",
        "\n",
        "# start the bot\n",
        "bot.polling()"
      ],
      "metadata": {
        "colab": {
          "base_uri": "https://localhost:8080/"
        },
        "id": "qCyEhbF2Fi-l",
        "outputId": "244d4bf2-2e3e-4fbb-aa20-20a8bd50892e"
      },
      "execution_count": 8,
      "outputs": [
        {
          "output_type": "stream",
          "name": "stdout",
          "text": [
            "conversation state {6432666165: 'start'}\n",
            "classified as toxic with score 0.9265441298484802\n",
            "classified as toxic with score 0.0009226974216289818\n",
            "classified as toxic with score 0.0007705428288318217\n",
            "classified as toxic with score 0.0005617672577500343\n"
          ]
        }
      ]
    }
  ]
}
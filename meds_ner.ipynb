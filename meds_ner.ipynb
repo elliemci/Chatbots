{
  "nbformat": 4,
  "nbformat_minor": 0,
  "metadata": {
    "colab": {
      "provenance": [],
      "authorship_tag": "ABX9TyOhquddliLkpicQ1jgeOqb+",
      "include_colab_link": true
    },
    "kernelspec": {
      "name": "python3",
      "display_name": "Python 3"
    },
    "language_info": {
      "name": "python"
    }
  },
  "cells": [
    {
      "cell_type": "markdown",
      "metadata": {
        "id": "view-in-github",
        "colab_type": "text"
      },
      "source": [
        "<a href=\"https://colab.research.google.com/github/elliemci/chatbots/blob/main/meds_ner.ipynb\" target=\"_parent\"><img src=\"https://colab.research.google.com/assets/colab-badge.svg\" alt=\"Open In Colab\"/></a>"
      ]
    },
    {
      "cell_type": "code",
      "execution_count": 1,
      "metadata": {
        "colab": {
          "base_uri": "https://localhost:8080/"
        },
        "id": "CvNahZWNndgN",
        "outputId": "0a8b7069-8a2b-4f5c-e56a-2ffdea917b6b"
      },
      "outputs": [
        {
          "output_type": "stream",
          "name": "stdout",
          "text": [
            "Requirement already satisfied: transformers in /usr/local/lib/python3.10/dist-packages (4.35.2)\n",
            "Requirement already satisfied: filelock in /usr/local/lib/python3.10/dist-packages (from transformers) (3.13.1)\n",
            "Requirement already satisfied: huggingface-hub<1.0,>=0.16.4 in /usr/local/lib/python3.10/dist-packages (from transformers) (0.19.4)\n",
            "Requirement already satisfied: numpy>=1.17 in /usr/local/lib/python3.10/dist-packages (from transformers) (1.23.5)\n",
            "Requirement already satisfied: packaging>=20.0 in /usr/local/lib/python3.10/dist-packages (from transformers) (23.2)\n",
            "Requirement already satisfied: pyyaml>=5.1 in /usr/local/lib/python3.10/dist-packages (from transformers) (6.0.1)\n",
            "Requirement already satisfied: regex!=2019.12.17 in /usr/local/lib/python3.10/dist-packages (from transformers) (2023.6.3)\n",
            "Requirement already satisfied: requests in /usr/local/lib/python3.10/dist-packages (from transformers) (2.31.0)\n",
            "Requirement already satisfied: tokenizers<0.19,>=0.14 in /usr/local/lib/python3.10/dist-packages (from transformers) (0.15.0)\n",
            "Requirement already satisfied: safetensors>=0.3.1 in /usr/local/lib/python3.10/dist-packages (from transformers) (0.4.1)\n",
            "Requirement already satisfied: tqdm>=4.27 in /usr/local/lib/python3.10/dist-packages (from transformers) (4.66.1)\n",
            "Requirement already satisfied: fsspec>=2023.5.0 in /usr/local/lib/python3.10/dist-packages (from huggingface-hub<1.0,>=0.16.4->transformers) (2023.6.0)\n",
            "Requirement already satisfied: typing-extensions>=3.7.4.3 in /usr/local/lib/python3.10/dist-packages (from huggingface-hub<1.0,>=0.16.4->transformers) (4.5.0)\n",
            "Requirement already satisfied: charset-normalizer<4,>=2 in /usr/local/lib/python3.10/dist-packages (from requests->transformers) (3.3.2)\n",
            "Requirement already satisfied: idna<4,>=2.5 in /usr/local/lib/python3.10/dist-packages (from requests->transformers) (3.6)\n",
            "Requirement already satisfied: urllib3<3,>=1.21.1 in /usr/local/lib/python3.10/dist-packages (from requests->transformers) (2.0.7)\n",
            "Requirement already satisfied: certifi>=2017.4.17 in /usr/local/lib/python3.10/dist-packages (from requests->transformers) (2023.11.17)\n"
          ]
        }
      ],
      "source": [
        "!pip install transformers"
      ]
    },
    {
      "cell_type": "code",
      "source": [
        "# A Named Entity Recognition model for medication entities:\n",
        "# medication name, dosage, duration, frequency, reason\n",
        "from transformers import AutoTokenizer, AutoModelForTokenClassification\n",
        "from transformers import pipeline\n",
        "\n",
        "tokenizer = AutoTokenizer.from_pretrained(\"samrawal/bert-large-uncased_med-ner\")\n",
        "model = AutoModelForTokenClassification.from_pretrained(\"samrawal/bert-large-uncased_med-ner\")\n",
        "\n",
        "nlp = pipeline(\"ner\", model=model, tokenizer=tokenizer, aggregation_strategy=\"SIMPLE\")\n",
        "\n",
        "\n",
        "text1 = \"Take 1mg of Tylenol every 12 hours for 5 days\"\n",
        "text2 = \"For managing pain due to inflamation after surgery take 600 mg of Ibuprofen every 8 hours, alterning with 1000 mg of Tylenol every 8 hours for 5 days.\"\n",
        "\n",
        "print(f\"Name Entities Recognized in \\n\\\"{text1}\\\":\\n {nlp(text1)}\")\n",
        "print(f\"\\nName Entities Recognized in \\n\\\"{text2}\\\":\\n {nlp(text2)}\")"
      ],
      "metadata": {
        "colab": {
          "base_uri": "https://localhost:8080/"
        },
        "id": "HsArzb7-p2wY",
        "outputId": "e039577a-9014-4fab-e5c1-551b4a085f5a"
      },
      "execution_count": 13,
      "outputs": [
        {
          "output_type": "stream",
          "name": "stdout",
          "text": [
            "Name Entities Recognized in \n",
            "\"Take 1mg of Tylenol every 12 hours for 5 days\":\n",
            " [{'entity_group': 'do', 'score': 0.99743664, 'word': '1mg', 'start': 5, 'end': 8}, {'entity_group': 'm', 'score': 0.9028013, 'word': 'tylenol', 'start': 12, 'end': 19}, {'entity_group': 'f', 'score': 0.99928826, 'word': 'every 12 hours', 'start': 20, 'end': 34}, {'entity_group': 'du', 'score': 0.99516255, 'word': 'for 5 days', 'start': 35, 'end': 45}]\n",
            "\n",
            "Name Entities Recognized in \n",
            "\"For managing pain due to inflamation after surgery take 600 mg of Ibuprofen every 8 hours, alterning with 1000 mg of Tylenol every 8 hours for 5 days.\":\n",
            " [{'entity_group': 'r', 'score': 0.960201, 'word': 'pain', 'start': 13, 'end': 17}, {'entity_group': 'r', 'score': 0.5348089, 'word': 'in', 'start': 25, 'end': 27}, {'entity_group': 'do', 'score': 0.9966527, 'word': '600 mg', 'start': 56, 'end': 62}, {'entity_group': 'm', 'score': 0.81999636, 'word': 'ibup', 'start': 66, 'end': 70}, {'entity_group': 'm', 'score': 0.98775, 'word': '##fen', 'start': 72, 'end': 75}, {'entity_group': 'f', 'score': 0.9986909, 'word': 'every 8 hours', 'start': 76, 'end': 89}, {'entity_group': 'do', 'score': 0.9949151, 'word': '1000 mg', 'start': 106, 'end': 113}, {'entity_group': 'm', 'score': 0.8775608, 'word': 'tylenol', 'start': 117, 'end': 124}, {'entity_group': 'f', 'score': 0.99841523, 'word': 'every 8 hours', 'start': 125, 'end': 138}, {'entity_group': 'du', 'score': 0.99082667, 'word': 'for 5 days', 'start': 139, 'end': 149}]\n"
          ]
        }
      ]
    }
  ]
}
{
  "nbformat": 4,
  "nbformat_minor": 0,
  "metadata": {
    "colab": {
      "provenance": [],
      "authorship_tag": "ABX9TyP2EpgQ08820UecIAtS60DO",
      "include_colab_link": true
    },
    "kernelspec": {
      "name": "python3",
      "display_name": "Python 3"
    },
    "language_info": {
      "name": "python"
    }
  },
  "cells": [
    {
      "cell_type": "markdown",
      "metadata": {
        "id": "view-in-github",
        "colab_type": "text"
      },
      "source": [
        "<a href=\"https://colab.research.google.com/github/elliemci/chatbots/blob/main/qa_chatbot.ipynb\" target=\"_parent\"><img src=\"https://colab.research.google.com/assets/colab-badge.svg\" alt=\"Open In Colab\"/></a>"
      ]
    },
    {
      "cell_type": "markdown",
      "source": [
        "Wikipedia \"Canned Response\"\n",
        "\n",
        "A type of FAQ bot that only know the anser to basic, general questions with a state, an added context menagment."
      ],
      "metadata": {
        "id": "-eYGBjoroXd2"
      }
    },
    {
      "cell_type": "code",
      "execution_count": null,
      "metadata": {
        "id": "00Ifh184S5s7"
      },
      "outputs": [],
      "source": [
        "# install Python transformers development version with\n",
        "!pip install transformers[sentencepiece] pyTelegramBotAPI wikipedia"
      ]
    },
    {
      "cell_type": "code",
      "source": [
        "import telebot\n",
        "import wikipedia\n",
        "from transformers import pipeline\n",
        "\n",
        "print(wikipedia.summary(\"Wikipedia\"))"
      ],
      "metadata": {
        "colab": {
          "base_uri": "https://localhost:8080/"
        },
        "id": "c2MliPJr0mTJ",
        "outputId": "9ba09e38-e4c4-4b74-b1e7-e3cb6a132781"
      },
      "execution_count": 2,
      "outputs": [
        {
          "output_type": "stream",
          "name": "stdout",
          "text": [
            "The Wikimedia Foundation, Inc. (WMF) is an American 501(c)(3) nonprofit organization headquartered in San Francisco, California, and registered as a charitable foundation under local laws. It is best known as the host platform for Wikipedia, the largest crowdsourced online encyclopedia in the world. The organization also hosts other related projects and MediaWiki, a wiki software.The Wikimedia Foundation was established in 2003 in St. Petersburg, Florida, by Jimmy Wales as a nonprofit way to fund Wikipedia, Wiktionary, and other crowdsourced wiki projects that had until then been hosted by Bomis, Wales's for-profit company. The Foundation finances itself mainly through millions of small donations from Wikipedia readers, collected through email campaigns and annual fundraising banners placed on Wikipedia and its sister projects. These are complemented by grants from philanthropic organizations and tech companies, and starting in 2022, by services income from Wikimedia Enterprise.\n",
            "The Foundation has grown rapidly throughout its existence. By 2022, it employed around 700 staff and contractors, with annual revenues of $155 million, annual expenses of $146 million, net assets of $240 million and a growing endowment, which surpassed $100 million in June 2021.\n"
          ]
        }
      ]
    },
    {
      "cell_type": "code",
      "source": [
        "import os\n",
        "from getpass import getpass\n",
        "\n",
        "os.environ['TELEGRAM_BOT_TOKEN'] = getpass('Enter your bot token: ')\n",
        "TOKEN = os.getenv('TELEGRAM_BOT_TOKEN')\n",
        "\n",
        "# create the bot an instance of TeleBot when set the token\n",
        "bot = telebot.TeleBot(TOKEN)"
      ],
      "metadata": {
        "colab": {
          "base_uri": "https://localhost:8080/"
        },
        "id": "p0PvdkLI18vM",
        "outputId": "2ff1f057-4d6b-49d0-d29b-fa8d577c26f7"
      },
      "execution_count": 24,
      "outputs": [
        {
          "name": "stdout",
          "output_type": "stream",
          "text": [
            "Enter your bot token: ··········\n"
          ]
        }
      ]
    },
    {
      "cell_type": "code",
      "source": [
        "# handles incoming /start and /help\n",
        "@bot.message_handler(commands=['start', 'help'])\n",
        "def send_welcome(message):\n",
        "\tbot.reply_to(message, \"Howdy, how are you doing?\")\n",
        "\n",
        "# execute command with /greet\n",
        "@bot.message_handler(commands=['greet'])\n",
        "def greet(message):\n",
        "  bot.reply_to(message, \"What a wondeful day! Hows it going?\")\n",
        "\n",
        "# reply without repeating the question or phrase\n",
        "@bot.message_handler(commands=['hello'])\n",
        "def hello(message):\n",
        "  bot.send_message(message.chat.id, \"Hello there!\")\n",
        "\n",
        "# echos all incoming text messages\n",
        "#@bot.message_handler(func=lambda m: True)\n",
        "#def echo_all(message):\n",
        "  #bot.reply_to(message, message.text)"
      ],
      "metadata": {
        "id": "KLaiY60L4Kfw"
      },
      "execution_count": 25,
      "outputs": []
    },
    {
      "cell_type": "code",
      "source": [
        "state = 0\n",
        "subject = \"\"\n",
        "qa_pipeline = pipeline(\"question-answering\")\n",
        "\n",
        "@bot.message_handler(func=lambda message: True)\n",
        "def message(message):\n",
        "    global state, subject\n",
        "    chat_id = message.chat.id\n",
        "\n",
        "    if state == 0:\n",
        "      bot.send_message(chat_id, \"Hi, tell me a subject you want ot talk about?\")\n",
        "      state = 1\n",
        "    elif state == 1:\n",
        "        subject = message.text\n",
        "        if subject == \"no\":\n",
        "          bot.send_message(chat_id, \"Goodbye!\")\n",
        "          state = 0\n",
        "        else:\n",
        "          bot.send_message(chat_id, \"Ask me a question about this topic.\")\n",
        "          state = 2\n",
        "    elif state == 2:\n",
        "        question = message.text\n",
        "        try:\n",
        "            context = wikipedia.summary(subject)\n",
        "        except wikipedia.exceptions.DisambiguationError as e:\n",
        "            bot.send_message(chat_id, \"Your query is ambiguous, please provide more specific subject.\")\n",
        "            return\n",
        "        except wikipedia.exceptions.PageError as e:\n",
        "            bot.send_message(chat_id, \"I couldn't find a Wikipedia page on that subject.\")\n",
        "            return\n",
        "        answer = qa_pipeline({\"question\": question, \"context\": context})[\"answer\"]\n",
        "        bot.send_message(chat_id, answer)\n",
        "        state = 3\n",
        "    elif state == 3:\n",
        "      bot.send_message(chat_id, \"Anything else you want to talk about?\")\n",
        "      state = 1\n",
        "\n",
        "bot.infinity_polling()"
      ],
      "metadata": {
        "id": "qxIQ6Yue2lgy"
      },
      "execution_count": null,
      "outputs": []
    },
    {
      "cell_type": "code",
      "source": [],
      "metadata": {
        "id": "UQL--KIFKRqU"
      },
      "execution_count": null,
      "outputs": []
    },
    {
      "cell_type": "code",
      "source": [],
      "metadata": {
        "id": "pbycim_BKRtr"
      },
      "execution_count": null,
      "outputs": []
    },
    {
      "cell_type": "code",
      "source": [],
      "metadata": {
        "id": "hhMWbOjDKRxE"
      },
      "execution_count": null,
      "outputs": []
    }
  ]
}
{
  "nbformat": 4,
  "nbformat_minor": 0,
  "metadata": {
    "colab": {
      "provenance": [],
      "authorship_tag": "ABX9TyP2613ls+Xs7nBxK5heH65T",
      "include_colab_link": true
    },
    "kernelspec": {
      "name": "python3",
      "display_name": "Python 3"
    },
    "language_info": {
      "name": "python"
    }
  },
  "cells": [
    {
      "cell_type": "markdown",
      "metadata": {
        "id": "view-in-github",
        "colab_type": "text"
      },
      "source": [
        "<a href=\"https://colab.research.google.com/github/elliemci/chatbots/blob/main/msg_intent_chatbot.ipynb\" target=\"_parent\"><img src=\"https://colab.research.google.com/assets/colab-badge.svg\" alt=\"Open In Colab\"/></a>"
      ]
    },
    {
      "cell_type": "markdown",
      "source": [
        "NLP classification integrated into a telegram chatbot that classifyes any user message according to a set of intents"
      ],
      "metadata": {
        "id": "Qcwf1KYG9xaH"
      }
    },
    {
      "cell_type": "code",
      "execution_count": 1,
      "metadata": {
        "id": "fpNqMA1U9rU9",
        "colab": {
          "base_uri": "https://localhost:8080/"
        },
        "outputId": "406d4ce7-b18d-4243-945c-9d1bf974dc27"
      },
      "outputs": [
        {
          "output_type": "stream",
          "name": "stdout",
          "text": [
            "Requirement already satisfied: transformers[sentencepiece] in /usr/local/lib/python3.10/dist-packages (4.35.2)\n",
            "Collecting pyTelegramBotAPI\n",
            "  Downloading pyTelegramBotAPI-4.14.0.tar.gz (243 kB)\n",
            "\u001b[2K     \u001b[90m━━━━━━━━━━━━━━━━━━━━━━━━━━━━━━━━━━━━━━━━\u001b[0m \u001b[32m243.1/243.1 kB\u001b[0m \u001b[31m5.4 MB/s\u001b[0m eta \u001b[36m0:00:00\u001b[0m\n",
            "\u001b[?25h  Preparing metadata (setup.py) ... \u001b[?25l\u001b[?25hdone\n",
            "Requirement already satisfied: filelock in /usr/local/lib/python3.10/dist-packages (from transformers[sentencepiece]) (3.13.1)\n",
            "Requirement already satisfied: huggingface-hub<1.0,>=0.16.4 in /usr/local/lib/python3.10/dist-packages (from transformers[sentencepiece]) (0.19.4)\n",
            "Requirement already satisfied: numpy>=1.17 in /usr/local/lib/python3.10/dist-packages (from transformers[sentencepiece]) (1.23.5)\n",
            "Requirement already satisfied: packaging>=20.0 in /usr/local/lib/python3.10/dist-packages (from transformers[sentencepiece]) (23.2)\n",
            "Requirement already satisfied: pyyaml>=5.1 in /usr/local/lib/python3.10/dist-packages (from transformers[sentencepiece]) (6.0.1)\n",
            "Requirement already satisfied: regex!=2019.12.17 in /usr/local/lib/python3.10/dist-packages (from transformers[sentencepiece]) (2023.6.3)\n",
            "Requirement already satisfied: requests in /usr/local/lib/python3.10/dist-packages (from transformers[sentencepiece]) (2.31.0)\n",
            "Requirement already satisfied: tokenizers<0.19,>=0.14 in /usr/local/lib/python3.10/dist-packages (from transformers[sentencepiece]) (0.15.0)\n",
            "Requirement already satisfied: safetensors>=0.3.1 in /usr/local/lib/python3.10/dist-packages (from transformers[sentencepiece]) (0.4.0)\n",
            "Requirement already satisfied: tqdm>=4.27 in /usr/local/lib/python3.10/dist-packages (from transformers[sentencepiece]) (4.66.1)\n",
            "Collecting sentencepiece!=0.1.92,>=0.1.91 (from transformers[sentencepiece])\n",
            "  Downloading sentencepiece-0.1.99-cp310-cp310-manylinux_2_17_x86_64.manylinux2014_x86_64.whl (1.3 MB)\n",
            "\u001b[2K     \u001b[90m━━━━━━━━━━━━━━━━━━━━━━━━━━━━━━━━━━━━━━━━\u001b[0m \u001b[32m1.3/1.3 MB\u001b[0m \u001b[31m36.4 MB/s\u001b[0m eta \u001b[36m0:00:00\u001b[0m\n",
            "\u001b[?25hRequirement already satisfied: protobuf in /usr/local/lib/python3.10/dist-packages (from transformers[sentencepiece]) (3.20.3)\n",
            "Requirement already satisfied: fsspec>=2023.5.0 in /usr/local/lib/python3.10/dist-packages (from huggingface-hub<1.0,>=0.16.4->transformers[sentencepiece]) (2023.6.0)\n",
            "Requirement already satisfied: typing-extensions>=3.7.4.3 in /usr/local/lib/python3.10/dist-packages (from huggingface-hub<1.0,>=0.16.4->transformers[sentencepiece]) (4.5.0)\n",
            "Requirement already satisfied: charset-normalizer<4,>=2 in /usr/local/lib/python3.10/dist-packages (from requests->transformers[sentencepiece]) (3.3.2)\n",
            "Requirement already satisfied: idna<4,>=2.5 in /usr/local/lib/python3.10/dist-packages (from requests->transformers[sentencepiece]) (3.4)\n",
            "Requirement already satisfied: urllib3<3,>=1.21.1 in /usr/local/lib/python3.10/dist-packages (from requests->transformers[sentencepiece]) (2.0.7)\n",
            "Requirement already satisfied: certifi>=2017.4.17 in /usr/local/lib/python3.10/dist-packages (from requests->transformers[sentencepiece]) (2023.7.22)\n",
            "Building wheels for collected packages: pyTelegramBotAPI\n",
            "  Building wheel for pyTelegramBotAPI (setup.py) ... \u001b[?25l\u001b[?25hdone\n",
            "  Created wheel for pyTelegramBotAPI: filename=pyTelegramBotAPI-4.14.0-py3-none-any.whl size=215250 sha256=83fa8b51f7dbdcf1c4cf798e7a3d43030cfe04b125a8a7d9804c6f05ab294268\n",
            "  Stored in directory: /root/.cache/pip/wheels/25/51/2d/24b40a366c85c37928d5aa36ddf257e5a79fad25e1ecd11b2c\n",
            "Successfully built pyTelegramBotAPI\n",
            "Installing collected packages: sentencepiece, pyTelegramBotAPI\n",
            "Successfully installed pyTelegramBotAPI-4.14.0 sentencepiece-0.1.99\n"
          ]
        }
      ],
      "source": [
        "# install Python transformers development version\n",
        "!pip install transformers[sentencepiece] pyTelegramBotAPI"
      ]
    },
    {
      "cell_type": "code",
      "source": [
        "# import pyTelegramBotAPI and pipline class\n",
        "import telebot\n",
        "\n",
        "from transformers import pipeline"
      ],
      "metadata": {
        "id": "vwwdX-vA_cvj"
      },
      "execution_count": 3,
      "outputs": []
    },
    {
      "cell_type": "markdown",
      "source": [
        "### Set the chatbot token"
      ],
      "metadata": {
        "id": "BQfsvSSXCfQ1"
      }
    },
    {
      "cell_type": "code",
      "source": [
        "import os\n",
        "from getpass import getpass\n",
        "\n",
        "# text /newbot to the BotFather in the Telegram Chat choose a bot's name and username\n",
        "os.environ['TELEGRAM_BOT_TOKEN'] = getpass('Enter your bot token: ')\n",
        "TOKEN = os.getenv('TELEGRAM_BOT_TOKEN')\n",
        "\n",
        "# create the bot an instance of TeleBot when set the token\n",
        "bot = telebot.TeleBot(TOKEN)"
      ],
      "metadata": {
        "colab": {
          "base_uri": "https://localhost:8080/"
        },
        "id": "KxzC6Xmf_wxB",
        "outputId": "24b65a23-7d90-476d-948f-aab5199618ae"
      },
      "execution_count": 4,
      "outputs": [
        {
          "name": "stdout",
          "output_type": "stream",
          "text": [
            "Enter your bot token: ··········\n"
          ]
        }
      ]
    },
    {
      "cell_type": "code",
      "source": [
        "# instantiate piplenine class passing the \"zero-shot-classification\" task, i.e. classification\n",
        "# is done without any trainig specific to classification in hand, default transformer model BART\n",
        "classifier = pipeline(\"zero-shot-classification\")\n",
        "possible_intents = [\"food\", \"drinks\", \"deserts\", \"sports\", \"movies\", \"music\", \"news\", \"fun\", \"social media\", \"focus\"]\n",
        "\n",
        "# define a dictionary to store the state of the conversation\n",
        "conversation_state = {}\n",
        "\n",
        "# function that handles all incoming messages, filter always returns True\n",
        "@bot.message_handler(func=lambda message: True)\n",
        "def handle_message(message):\n",
        "    global conversation_state\n",
        "    # get the chat id\n",
        "    chat_id = message.chat.id\n",
        "    # check if the chat id is in the conversation state dictionary\n",
        "    if chat_id not in conversation_state:\n",
        "      conversation_state[chat_id] = \"start\"\n",
        "      print(f\"conversation state {conversation_state}\")\n",
        "    # get the current state of the conversation\n",
        "    state = conversation_state[chat_id]\n",
        "\n",
        "    # check the content of the message and classify it\n",
        "    if state == \"start\":\n",
        "      bot.send_message(chat_id, \"Hi, how can I help you?\")\n",
        "      conversation_state[chat_id] = \"waiting_for_input\"\n",
        "    elif state == \"waiting_for_input\":\n",
        "      # get user's message intent\n",
        "      intent = classifier(message.text,  possible_intents)\n",
        "      # get the label of the intent\n",
        "      label = intent[\"labels\"][0]\n",
        "      # get the score of the intent\n",
        "      score = intent[\"scores\"][0]\n",
        "      # reply with the label if score is higher than 0.5, otherwise reply with default message\n",
        "      if score > 0.5:\n",
        "        bot.send_message(chat_id, f\"Your intent is {label}\")\n",
        "      else:\n",
        "        bot.send_message(chat_id, \"I'm sorry, I didn't understand your intent.\")\n",
        "        conversation_state[chat_id] = \"waiting_for_input\"\n",
        "\n",
        "# start the bot\n",
        "bot.polling()"
      ],
      "metadata": {
        "colab": {
          "base_uri": "https://localhost:8080/"
        },
        "id": "ABP7xhEAThxx",
        "outputId": "feb5ad65-6e41-464a-fe8f-deca378711bb"
      },
      "execution_count": 6,
      "outputs": [
        {
          "output_type": "stream",
          "name": "stderr",
          "text": [
            "No model was supplied, defaulted to facebook/bart-large-mnli and revision c626438 (https://huggingface.co/facebook/bart-large-mnli).\n",
            "Using a pipeline without specifying a model name and revision in production is not recommended.\n"
          ]
        },
        {
          "output_type": "stream",
          "name": "stdout",
          "text": [
            "chat id 6432666165\n",
            "conversation state {6432666165: 'start'}\n",
            "conversation state {6432666165: 'waiting_for_input'}\n",
            "chat id 6432666165\n",
            "classified intent {'sequence': 'I want to watch CNN', 'labels': ['news', 'focus', 'fun', 'social media', 'movies', 'deserts', 'sports', 'drinks', 'food', 'music'], 'scores': [0.4678856432437897, 0.28161299228668213, 0.1875370889902115, 0.02514306828379631, 0.009182273410260677, 0.007911425083875656, 0.007125344593077898, 0.005344109609723091, 0.0047874595038592815, 0.0034705596044659615]}\n",
            "labels news with scores 0.4678856432437897\n",
            "chat id 6432666165\n",
            "classified intent {'sequence': 'I want to listen to NPR   All  things considered', 'labels': ['music', 'focus', 'fun', 'news', 'deserts', 'social media', 'drinks', 'sports', 'food', 'movies'], 'scores': [0.44553816318511963, 0.23911263048648834, 0.13768354058265686, 0.1365867257118225, 0.009137795306742191, 0.007187732961028814, 0.007005343679338694, 0.006874744780361652, 0.006471486762166023, 0.004401822108775377]}\n",
            "labels music with scores 0.44553816318511963\n",
            "chat id 6432666165\n",
            "classified intent {'sequence': 'well. i want to read the latest development', 'labels': ['news', 'focus', 'fun', 'social media', 'deserts', 'drinks', 'sports', 'movies', 'food', 'music'], 'scores': [0.7591076493263245, 0.1057385802268982, 0.05421774834394455, 0.037504274398088455, 0.010978435166180134, 0.010441187769174576, 0.008545882068574429, 0.004918031860142946, 0.004416793584823608, 0.004131450783461332]}\n",
            "labels news with scores 0.7591076493263245\n"
          ]
        }
      ]
    },
    {
      "cell_type": "markdown",
      "source": [
        "Chatbot that receives a message from the user and classifies the message acording to set of intents"
      ],
      "metadata": {
        "id": "FXHv7cL-DleG"
      }
    }
  ]
}